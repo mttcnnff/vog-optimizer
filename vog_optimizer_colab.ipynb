{
 "nbformat": 4,
 "nbformat_minor": 0,
 "metadata": {
  "colab": {
   "name": "vog-optimizer-colab.ipynb",
   "private_outputs": true,
   "provenance": [],
   "authorship_tag": "ABX9TyP6yYRki4YIhp1uEzaCawTa",
   "include_colab_link": true
  },
  "kernelspec": {
   "name": "python3",
   "display_name": "Python 3"
  },
  "pycharm": {
   "stem_cell": {
    "cell_type": "raw",
    "source": [],
    "metadata": {
     "collapsed": false
    }
   }
  }
 },
 "cells": [
  {
   "cell_type": "markdown",
   "metadata": {
    "id": "view-in-github",
    "colab_type": "text"
   },
   "source": [
    "<a href=\"https://colab.research.google.com/github/mttcnnff/vog-optimizer/blob/master/vog_optimizer_colab.ipynb\" target=\"_parent\"><img src=\"https://colab.research.google.com/assets/colab-badge.svg\" alt=\"Open In Colab\"/></a>"
   ]
  },
  {
   "cell_type": "code",
   "metadata": {
    "id": "xzzkQd3DeUrB"
   },
   "source": [
    "# Reimport project from github to refresh source\n",
    "\n",
    "!test -d vog-optimizer && rm -rf vog-optimizer\n",
    "!git clone https://github.com/mttcnnff/vog-optimizer.git\n",
    "!cd ./vog-optimizer && git fetch -v && git checkout master\n",
    "!pip install --force-reinstall vog-optimizer/"
   ],
   "execution_count": null,
   "outputs": []
  },
  {
   "cell_type": "code",
   "metadata": {
    "id": "8_530AtsiIz9"
   },
   "source": [
    ""
   ],
   "execution_count": null,
   "outputs": []
  }
 ]
}